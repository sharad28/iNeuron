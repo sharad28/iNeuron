{
 "cells": [
  {
   "cell_type": "code",
   "execution_count": 2,
   "metadata": {},
   "outputs": [
    {
     "name": "stdout",
     "output_type": "stream",
     "text": [
      "Hello Python\n"
     ]
    }
   ],
   "source": [
    "def Print():\n",
    "    print(\"Hello Python\")\n",
    "Print()"
   ]
  },
  {
   "cell_type": "code",
   "execution_count": 11,
   "metadata": {},
   "outputs": [
    {
     "name": "stdout",
     "output_type": "stream",
     "text": [
      "denominator cant be zero\n"
     ]
    }
   ],
   "source": [
    "def arith(a,b):\n",
    "    try:\n",
    "#         if b==0:\n",
    "#             raise TypeError(\"denominator cant be zero\")\n",
    "        print(f'addition of a,b {a+b} & division of a,b is {a/b}')\n",
    "    except Exception as e:\n",
    "        print(e)\n",
    "arith(1,0)"
   ]
  },
  {
   "cell_type": "code",
   "execution_count": 13,
   "metadata": {},
   "outputs": [
    {
     "name": "stdout",
     "output_type": "stream",
     "text": [
      "50.0\n"
     ]
    }
   ],
   "source": [
    "def area(h,b):\n",
    "    \"\"\"\n",
    "    h= height \n",
    "    b= base of triangle\n",
    "    \"\"\"\n",
    "    try:\n",
    "        area = h*b*0.5\n",
    "        print(area)\n",
    "    except Exception as e:\n",
    "        print(e)\n",
    "area(10,10)"
   ]
  },
  {
   "cell_type": "code",
   "execution_count": 18,
   "metadata": {},
   "outputs": [
    {
     "name": "stdout",
     "output_type": "stream",
     "text": [
      "now a is 2 & b is 10\n"
     ]
    }
   ],
   "source": [
    "def Swap(a,b):\n",
    "    try:\n",
    "        a,b=b,a\n",
    "        print(f'now a is {a} & b is {b}')\n",
    "    except Exception as e:\n",
    "        print (e)\n",
    "Swap(10,'2')"
   ]
  },
  {
   "cell_type": "code",
   "execution_count": 26,
   "metadata": {},
   "outputs": [
    {
     "name": "stdout",
     "output_type": "stream",
     "text": [
      "0.5755819025297796\n"
     ]
    }
   ],
   "source": [
    "import numpy as np\n",
    "def Rand():\n",
    "    print(np.random.rand())\n",
    "Rand()"
   ]
  },
  {
   "cell_type": "code",
   "execution_count": null,
   "metadata": {},
   "outputs": [],
   "source": []
  },
  {
   "cell_type": "code",
   "execution_count": null,
   "metadata": {},
   "outputs": [],
   "source": []
  }
 ],
 "metadata": {
  "kernelspec": {
   "display_name": "Python 3",
   "language": "python",
   "name": "python3"
  },
  "language_info": {
   "codemirror_mode": {
    "name": "ipython",
    "version": 3
   },
   "file_extension": ".py",
   "mimetype": "text/x-python",
   "name": "python",
   "nbconvert_exporter": "python",
   "pygments_lexer": "ipython3",
   "version": "3.7.4"
  }
 },
 "nbformat": 4,
 "nbformat_minor": 2
}
