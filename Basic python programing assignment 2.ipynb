{
 "cells": [
  {
   "cell_type": "code",
   "execution_count": 1,
   "id": "868b6a8a",
   "metadata": {},
   "outputs": [
    {
     "data": {
      "text/plain": [
       "6.215040397762586"
      ]
     },
     "execution_count": 1,
     "metadata": {},
     "output_type": "execute_result"
    }
   ],
   "source": [
    "def KMtoMILES(x):\n",
    "    return x/1.609\n",
    "KMtoMILES(10)"
   ]
  },
  {
   "cell_type": "code",
   "execution_count": 2,
   "id": "508d23fd",
   "metadata": {},
   "outputs": [
    {
     "data": {
      "text/plain": [
       "221.0"
      ]
     },
     "execution_count": 2,
     "metadata": {},
     "output_type": "execute_result"
    }
   ],
   "source": [
    "def CtoF(x):\n",
    "    return (x*9/5+32)\n",
    "CtoF(105)"
   ]
  },
  {
   "cell_type": "code",
   "execution_count": 7,
   "id": "d02da7c7",
   "metadata": {},
   "outputs": [
    {
     "name": "stdout",
     "output_type": "stream",
     "text": [
      "   November 2021\n",
      "Mo Tu We Th Fr Sa Su\n",
      " 1  2  3  4  5  6  7\n",
      " 8  9 10 11 12 13 14\n",
      "15 16 17 18 19 20 21\n",
      "22 23 24 25 26 27 28\n",
      "29 30\n",
      "\n"
     ]
    }
   ],
   "source": [
    "import calendar\n",
    "print(calendar.month(2021,11))"
   ]
  },
  {
   "cell_type": "code",
   "execution_count": 30,
   "id": "0c0ae834",
   "metadata": {},
   "outputs": [
    {
     "name": "stdout",
     "output_type": "stream",
     "text": [
      "We can help you solve an equation of the form ax2 + bx + c = 0\n",
      "Enter a, b, c (seperate by ,)-2,2,1\n",
      "a = -2, b= 2, c = 1\n",
      "First solution = -0.3660254037844386\n",
      "second solution = 1.3660254037844386\n"
     ]
    }
   ],
   "source": [
    "import math\n",
    "def quadratic_equation():\n",
    "    try:\n",
    "    \n",
    "        print(\"We can help you solve an equation of the form ax2 + bx + c = 0\")\n",
    "\n",
    "        a,b,c=input(\"Enter a, b, c (seperate by ,)\").split(',')\n",
    "        print(f'a = {a}, b= {b}, c = {c}')\n",
    "        a=float(a)\n",
    "        b=float(b)\n",
    "        c=float(c)\n",
    "        if \n",
    "        sol1=(-b+math.sqrt(b*b-4*a*c))/(2*a)\n",
    "        print(f'First solution = {sol1}')\n",
    "        sol2=(-b-math.sqrt(b*b-4*a*c))/(2*a)\n",
    "        print(f'second solution = {sol2}')        \n",
    "    except Exception as e:\n",
    "        print(e)\n",
    "quadratic_equation()"
   ]
  },
  {
   "cell_type": "code",
   "execution_count": 31,
   "id": "0d243fdf",
   "metadata": {},
   "outputs": [
    {
     "name": "stdout",
     "output_type": "stream",
     "text": [
      "x=5 & y=a\n",
      "after swap\n",
      "x=a & y=5\n"
     ]
    }
   ],
   "source": [
    "def swap(x,y):\n",
    "    print(f'x={x} & y={y}')\n",
    "    print('after swap')\n",
    "    x,y=y,x\n",
    "    print(f'x={x} & y={y}')\n",
    "swap(5,'a')"
   ]
  },
  {
   "cell_type": "code",
   "execution_count": null,
   "id": "a879a80a",
   "metadata": {},
   "outputs": [],
   "source": []
  }
 ],
 "metadata": {
  "kernelspec": {
   "display_name": "Python 3",
   "language": "python",
   "name": "python3"
  },
  "language_info": {
   "codemirror_mode": {
    "name": "ipython",
    "version": 3
   },
   "file_extension": ".py",
   "mimetype": "text/x-python",
   "name": "python",
   "nbconvert_exporter": "python",
   "pygments_lexer": "ipython3",
   "version": "3.8.8"
  }
 },
 "nbformat": 4,
 "nbformat_minor": 5
}
