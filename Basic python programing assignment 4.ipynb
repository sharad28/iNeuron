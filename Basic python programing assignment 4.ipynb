{
 "cells": [
  {
   "cell_type": "code",
   "execution_count": 6,
   "id": "eb5973f8",
   "metadata": {},
   "outputs": [
    {
     "data": {
      "text/plain": [
       "[2, 2, 2, 5, 5, 5]"
      ]
     },
     "execution_count": 6,
     "metadata": {},
     "output_type": "execute_result"
    }
   ],
   "source": [
    "def factorial(x):\n",
    "    i=2\n",
    "    fact=[]\n",
    "    while x>1:\n",
    "        while x%i==0:\n",
    "            if x%i==0:\n",
    "                fact.append(i)\n",
    "                x=x/i\n",
    "        i+=1\n",
    "    return fact\n",
    "factorial(1000)\n",
    "\n",
    "                \n",
    "                        \n",
    "            \n",
    "        "
   ]
  },
  {
   "cell_type": "code",
   "execution_count": 8,
   "id": "4da672fd",
   "metadata": {},
   "outputs": [
    {
     "name": "stdout",
     "output_type": "stream",
     "text": [
      "2 x 1 = 2\n",
      "2 x 2 = 4\n",
      "2 x 3 = 6\n",
      "2 x 4 = 8\n",
      "2 x 5 = 10\n",
      "2 x 6 = 12\n",
      "2 x 7 = 14\n",
      "2 x 8 = 16\n",
      "2 x 9 = 18\n",
      "2 x 10 = 20\n"
     ]
    }
   ],
   "source": [
    "def multiplication(x):\n",
    "    for i in range(1,11,1):\n",
    "        print(f'{x} x {i} = {x*i}')\n",
    "multiplication(2)        "
   ]
  },
  {
   "cell_type": "code",
   "execution_count": 14,
   "id": "76665ca4",
   "metadata": {},
   "outputs": [
    {
     "name": "stdout",
     "output_type": "stream",
     "text": [
      "[1, 1, 2, 3, 5, 8, 13]\n"
     ]
    }
   ],
   "source": [
    "def fibo(n):\n",
    "    if n==1:\n",
    "        print(1)\n",
    "    elif n==2:\n",
    "        print(1,1)\n",
    "    else:\n",
    "        x=[1,1]\n",
    "        for i in range(n):\n",
    "            x.append(x[-1]+x[-2])\n",
    "        print(x)\n",
    "fibo(5)"
   ]
  },
  {
   "cell_type": "code",
   "execution_count": 52,
   "id": "bdba7d58",
   "metadata": {},
   "outputs": [
    {
     "name": "stdout",
     "output_type": "stream",
     "text": [
      "Number is armstrong\n"
     ]
    }
   ],
   "source": [
    "import math\n",
    "def armstrong(n):\n",
    "    num=n\n",
    "    x=10**(len(str(n))-1)\n",
    "    lst=[]\n",
    "    while x>0.1:\n",
    "        y=int(n/x)\n",
    "        lst.append(y)\n",
    "        n=n-y*x\n",
    "        x=x/10\n",
    "    suma=0\n",
    "    for i in lst:\n",
    "        suma+=i*i*i\n",
    "    \n",
    "    if suma==num:\n",
    "        print(\"Number is armstrong\")\n",
    "    else:\n",
    "        print(\"Number is not armstrong\")\n",
    "armstrong(153)"
   ]
  },
  {
   "cell_type": "code",
   "execution_count": 53,
   "id": "66e71943",
   "metadata": {},
   "outputs": [
    {
     "name": "stdout",
     "output_type": "stream",
     "text": [
      "55\n"
     ]
    }
   ],
   "source": [
    "def sumnuturalnum(n):\n",
    "    sumnum=0\n",
    "    for i in range(1,n+1):\n",
    "        sumnum+=i\n",
    "    print(sumnum)\n",
    "sumnuturalnum(10)"
   ]
  },
  {
   "cell_type": "code",
   "execution_count": null,
   "id": "953e29bf",
   "metadata": {},
   "outputs": [],
   "source": []
  }
 ],
 "metadata": {
  "kernelspec": {
   "display_name": "Python 3",
   "language": "python",
   "name": "python3"
  },
  "language_info": {
   "codemirror_mode": {
    "name": "ipython",
    "version": 3
   },
   "file_extension": ".py",
   "mimetype": "text/x-python",
   "name": "python",
   "nbconvert_exporter": "python",
   "pygments_lexer": "ipython3",
   "version": "3.8.8"
  }
 },
 "nbformat": 4,
 "nbformat_minor": 5
}
