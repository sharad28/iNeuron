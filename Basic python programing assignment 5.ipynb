{
 "cells": [
  {
   "cell_type": "code",
   "execution_count": null,
   "id": "55104b80",
   "metadata": {},
   "outputs": [],
   "source": [
    "# Write a Python Program to Find LCM?\n",
    "# Write a Python Program to Find HCF?\n",
    "# Write a Python Program to Convert Decimal to Binary, Octal and Hexadecimal?\n",
    "# Write a Python Program To Find ASCII value of a character?\n",
    "# Write a Python Program to Make a Simple Calculator with 4 basic mathematical operations?\n",
    "def LCM(x,y):\n",
    "    i=2\n",
    "    lst=[]\n",
    "    while ((x>1) or (y>1))==True:\n",
    "        while ((x%i==0) or (y%i==0))==True:\n",
    "            lst.append(i)\n",
    "            if x%i==0:\n",
    "                x=x/i\n",
    "            if y%i==0:\n",
    "                y=y/i\n",
    "        i+=1\n",
    "\n",
    "    print(lst)\n",
    "LCM(325,39)"
   ]
  },
  {
   "cell_type": "code",
   "execution_count": 43,
   "id": "354ff490",
   "metadata": {},
   "outputs": [
    {
     "name": "stdout",
     "output_type": "stream",
     "text": [
      "{5, 3, 13}\n"
     ]
    }
   ],
   "source": [
    "def HCF(x,y):\n",
    "    _a=factoral(x)\n",
    "    _b=factoral(y)\n",
    "    _b.extend(_a)\n",
    "    _b1=set(_b)\n",
    "    print (_b1)\n",
    "def factoral(x):\n",
    "    i=2\n",
    "    lst=[]\n",
    "    while x>1:\n",
    "        while x%i==0:\n",
    "            lst.append(i)\n",
    "            x=x/i\n",
    "        i+=1\n",
    "    return lst\n",
    "# factoral(37)\n",
    "HCF(325,39)"
   ]
  },
  {
   "cell_type": "code",
   "execution_count": 45,
   "id": "d5f33ca1",
   "metadata": {},
   "outputs": [
    {
     "name": "stdout",
     "output_type": "stream",
     "text": [
      "[3, 13]\n"
     ]
    }
   ],
   "source": [
    "# or\n",
    "def HCF1(x,y):\n",
    "    i=2\n",
    "    lst=[]\n",
    "    while ((x>1) and (y>1))==True:\n",
    "        while ((x%i==0) and (y%i==0))==True:\n",
    "            lst.append(i)\n",
    "            if x%i==0:\n",
    "                x=x/i\n",
    "            if y%i==0:\n",
    "                y=y/i\n",
    "        i+=1\n",
    "\n",
    "    print(lst)\n",
    "HCF1(195,39)"
   ]
  },
  {
   "cell_type": "code",
   "execution_count": 32,
   "id": "10d22f57",
   "metadata": {},
   "outputs": [
    {
     "data": {
      "text/plain": [
       "'10000'"
      ]
     },
     "execution_count": 32,
     "metadata": {},
     "output_type": "execute_result"
    }
   ],
   "source": [
    "def Convert_Decimal_to_Binary(num):\n",
    "    lst=[]\n",
    "    while num>0.9:\n",
    "        lst.append(str(num%2))\n",
    "        num=num//2\n",
    "    return \"\".join(lst[::-1])\n",
    "Convert_Decimal_to_Binary(16)\n",
    "\n",
    "\n"
   ]
  },
  {
   "cell_type": "code",
   "execution_count": 33,
   "id": "010e2eec",
   "metadata": {},
   "outputs": [
    {
     "data": {
      "text/plain": [
       "'20'"
      ]
     },
     "execution_count": 33,
     "metadata": {},
     "output_type": "execute_result"
    }
   ],
   "source": [
    "def Convert_Decimal_to_Oct(num):\n",
    "    lst=[]\n",
    "    while num>0.9:\n",
    "        lst.append(str(num%8))\n",
    "        num=num//8\n",
    "    return \"\".join(lst[::-1])\n",
    "Convert_Decimal_to_Oct(16)"
   ]
  },
  {
   "cell_type": "code",
   "execution_count": 34,
   "id": "fa291b73",
   "metadata": {},
   "outputs": [
    {
     "data": {
      "text/plain": [
       "'10'"
      ]
     },
     "execution_count": 34,
     "metadata": {},
     "output_type": "execute_result"
    }
   ],
   "source": [
    "def Convert_Decimal_to_hex(num):\n",
    "    lst=[]\n",
    "    while num>0.9:\n",
    "        lst.append(str(num%16))\n",
    "        num=num//16\n",
    "    return \"\".join(lst[::-1])\n",
    "Convert_Decimal_to_hex(16)"
   ]
  },
  {
   "cell_type": "code",
   "execution_count": 36,
   "id": "e9278c63",
   "metadata": {},
   "outputs": [
    {
     "data": {
      "text/plain": [
       "65"
      ]
     },
     "execution_count": 36,
     "metadata": {},
     "output_type": "execute_result"
    }
   ],
   "source": [
    "def ASCII_value(a):\n",
    "    return ord(a)\n",
    "ASCII_value(\"A\")"
   ]
  },
  {
   "cell_type": "code",
   "execution_count": 81,
   "id": "71763d20",
   "metadata": {},
   "outputs": [
    {
     "data": {
      "text/plain": [
       "9"
      ]
     },
     "execution_count": 81,
     "metadata": {},
     "output_type": "execute_result"
    }
   ],
   "source": [
    "class calculator:\n",
    "    def __int__():\n",
    "        pass\n",
    "    def addition(self,*a):\n",
    "        '''\n",
    "        for addition\n",
    "        '''\n",
    "        add=0\n",
    "        for i in a:\n",
    "            add=add+i\n",
    "        return add\n",
    "    def subtract(self,*a):\n",
    "        _sub=0\n",
    "        for _i in a:\n",
    "            _sub-=_i\n",
    "        return _sub\n",
    "    def mul(self,*a):\n",
    "        count=0\n",
    "        for i in a:\n",
    "            if count==0:\n",
    "                mul=i\n",
    "            else:\n",
    "                mul=mul*i        \n",
    "            count=count+1\n",
    "        return mul\n",
    "    def division(self,*a):\n",
    "        count=0\n",
    "        for i in a:\n",
    "            if count==0:\n",
    "                dev=i\n",
    "            else:\n",
    "                dev=dev/i        \n",
    "            count=count+1\n",
    "        return dev\n",
    "cal=calculator()\n",
    "cal.addition(4,5)\n"
   ]
  }
 ],
 "metadata": {
  "kernelspec": {
   "display_name": "Python 3",
   "language": "python",
   "name": "python3"
  },
  "language_info": {
   "codemirror_mode": {
    "name": "ipython",
    "version": 3
   },
   "file_extension": ".py",
   "mimetype": "text/x-python",
   "name": "python",
   "nbconvert_exporter": "python",
   "pygments_lexer": "ipython3",
   "version": "3.8.8"
  }
 },
 "nbformat": 4,
 "nbformat_minor": 5
}
