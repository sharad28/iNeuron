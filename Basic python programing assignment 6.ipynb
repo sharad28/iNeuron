{
 "cells": [
  {
   "cell_type": "markdown",
   "id": "010b0d17",
   "metadata": {},
   "source": [
    "Write a Python Program to Display Fibonacci Sequence Using Recursion?\n",
    "\n",
    "Write a Python Program to Find Factorial of Number Using Recursion?\n",
    "\n",
    "Write a Python Program to calculate your Body Mass Index?\n",
    "\n",
    "Write a Python Program to calculate the natural logarithm of any number?\n",
    "\n",
    "Write a Python Program for cube sum of first n natural numbers?\n"
   ]
  },
  {
   "cell_type": "code",
   "execution_count": 1,
   "id": "d8f54403",
   "metadata": {},
   "outputs": [
    {
     "name": "stdout",
     "output_type": "stream",
     "text": [
      "[1, 1, 2, 3, 5]\n"
     ]
    }
   ],
   "source": [
    "#Write a Python Program to Display Fibonacci Sequence Using Recursion?\n",
    "def fib2(n):\n",
    "    if n==1:\n",
    "        print(1)\n",
    "    elif n==2:\n",
    "        print(1,1)\n",
    "    else:\n",
    "        l=[1,1]\n",
    "        global i\n",
    "        i=2  \n",
    "        fib(l,n)\n",
    "def fib(a,n):\n",
    "    global i\n",
    "    if n<=2:\n",
    "        return a\n",
    "    elif i==n:\n",
    "        print(a)\n",
    "    else:\n",
    "        i+=1\n",
    "        b=a[-1]+a[-2]\n",
    "        a.append(b)\n",
    "        fib(a,n)\n",
    "fib2(5)"
   ]
  },
  {
   "cell_type": "code",
   "execution_count": 2,
   "id": "9bfadd87",
   "metadata": {},
   "outputs": [
    {
     "name": "stdout",
     "output_type": "stream",
     "text": [
      "[1, 2, 3, 5]\n"
     ]
    }
   ],
   "source": [
    "#Write a Python Program to Find Factorial of Number Using Recursion?\n",
    "a=[1]\n",
    "i=2\n",
    "def factor(x,i):\n",
    "    while x%i==0:\n",
    "        a.append(i)\n",
    "        x=x/i\n",
    "    if x<=1:\n",
    "        print(a)\n",
    "        return \n",
    "    i=i+1\n",
    "    factor(x,i)\n",
    "factor(30,i)\n",
    "        "
   ]
  },
  {
   "cell_type": "code",
   "execution_count": 5,
   "id": "08bed1b4",
   "metadata": {},
   "outputs": [
    {
     "name": "stdout",
     "output_type": "stream",
     "text": [
      "Please enter weight in kg:\n",
      "80\n",
      "Please enter Height in m:\n",
      "1.7\n",
      "27.68\n"
     ]
    }
   ],
   "source": [
    "#Write a Python Program to calculate your Body Mass Index?\n",
    "def BMI(m,h):\n",
    "    bmi=round(m/(h**2),2)\n",
    "    print(bmi)\n",
    "def input1():\n",
    "    print(\"Please enter weight in kg:\")\n",
    "    m=float(input())\n",
    "    print(\"Please enter Height in m:\",)\n",
    "    h=float(input())\n",
    "    BMI(m,h)\n",
    "input1()"
   ]
  },
  {
   "cell_type": "code",
   "execution_count": 8,
   "id": "54225251",
   "metadata": {},
   "outputs": [
    {
     "data": {
      "text/plain": [
       "1.0"
      ]
     },
     "execution_count": 8,
     "metadata": {},
     "output_type": "execute_result"
    }
   ],
   "source": [
    "#Write a Python Program to calculate the natural logarithm of any number?\n",
    "import math\n",
    "def ln(x):\n",
    "    return math.log(x,2.71828)\n",
    "ln(2.71828)"
   ]
  },
  {
   "cell_type": "code",
   "execution_count": 9,
   "id": "17dbff0d",
   "metadata": {},
   "outputs": [
    {
     "data": {
      "text/plain": [
       "441"
      ]
     },
     "execution_count": 9,
     "metadata": {},
     "output_type": "execute_result"
    }
   ],
   "source": [
    "def cubsum(n):\n",
    "    s=0\n",
    "    for i in range(n+1):\n",
    "        s=s+i**3\n",
    "    return s\n",
    "cubsum(6)"
   ]
  },
  {
   "cell_type": "code",
   "execution_count": null,
   "id": "adec3cc8",
   "metadata": {},
   "outputs": [],
   "source": []
  }
 ],
 "metadata": {
  "kernelspec": {
   "display_name": "Python 3",
   "language": "python",
   "name": "python3"
  },
  "language_info": {
   "codemirror_mode": {
    "name": "ipython",
    "version": 3
   },
   "file_extension": ".py",
   "mimetype": "text/x-python",
   "name": "python",
   "nbconvert_exporter": "python",
   "pygments_lexer": "ipython3",
   "version": "3.8.8"
  }
 },
 "nbformat": 4,
 "nbformat_minor": 5
}
