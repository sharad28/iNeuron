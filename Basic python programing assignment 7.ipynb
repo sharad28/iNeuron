{
 "cells": [
  {
   "cell_type": "markdown",
   "id": "010b0d17",
   "metadata": {},
   "source": [
    "Write a Python Program to find sum of array?\n",
    "\n",
    "Write a Python Program to find largest element in an array?\n",
    "\n",
    "Write a Python Program for array rotation?\n",
    "\n",
    "Write a Python Program to Split the array and add the first part to the end?\n",
    "\n",
    "Write a Python Program to check if given array is Monotonic?\n"
   ]
  },
  {
   "cell_type": "code",
   "execution_count": 1,
   "id": "adec3cc8",
   "metadata": {},
   "outputs": [
    {
     "data": {
      "text/plain": [
       "22"
      ]
     },
     "execution_count": 1,
     "metadata": {},
     "output_type": "execute_result"
    }
   ],
   "source": [
    "#Write a Python Program to find sum of array?\n",
    "def sumarr(arr):\n",
    "    sum1=0\n",
    "    for i in arr:\n",
    "        sum1+=i\n",
    "    return sum1\n",
    "sumarr([4,5,7,6])"
   ]
  },
  {
   "cell_type": "code",
   "execution_count": 4,
   "id": "f0960241",
   "metadata": {},
   "outputs": [
    {
     "data": {
      "text/plain": [
       "7"
      ]
     },
     "execution_count": 4,
     "metadata": {},
     "output_type": "execute_result"
    }
   ],
   "source": [
    "# Write a Python Program to find largest element in an array?\n",
    "def findlarge(arr):\n",
    "    large=arr[0]\n",
    "    for i in range(1,len(arr)):\n",
    "        if large<arr[i]:\n",
    "            large=arr[i]\n",
    "    return large\n",
    "findlarge([4,5,7,6,-10])"
   ]
  },
  {
   "cell_type": "code",
   "execution_count": 6,
   "id": "30890331",
   "metadata": {},
   "outputs": [
    {
     "data": {
      "text/plain": [
       "[5, 7, 6, -10, 4]"
      ]
     },
     "execution_count": 6,
     "metadata": {},
     "output_type": "execute_result"
    }
   ],
   "source": [
    "# Write a Python Program for array rotation?\n",
    "def arryrotation(arr):\n",
    "    a=arr[0]\n",
    "    arr=arr[1:]\n",
    "    arr.append(a)\n",
    "    return arr\n",
    "arryrotation([4,5,7,6,-10])"
   ]
  },
  {
   "cell_type": "code",
   "execution_count": 12,
   "id": "386e283b",
   "metadata": {},
   "outputs": [
    {
     "data": {
      "text/plain": [
       "[7, 6, -10, 4, 5]"
      ]
     },
     "execution_count": 12,
     "metadata": {},
     "output_type": "execute_result"
    }
   ],
   "source": [
    "# Write a Python Program to Split the array and add the first part to the end?\n",
    "def modiarr(arr):\n",
    "    a=arr[:int(len(arr)/2)]\n",
    "    arr=arr[int(len(arr)/2):]\n",
    "    arr.extend(a)\n",
    "    return arr\n",
    "modiarr([4,5,7,6,-10])"
   ]
  },
  {
   "cell_type": "code",
   "execution_count": 25,
   "id": "71d1a982",
   "metadata": {},
   "outputs": [
    {
     "data": {
      "text/plain": [
       "1"
      ]
     },
     "execution_count": 25,
     "metadata": {},
     "output_type": "execute_result"
    }
   ],
   "source": [
    "# Write a Python Program to check if given array is Monotonic?\n",
    "class Solution:\n",
    "    def isMonotonic(self, nums) -> bool:\n",
    "        count=0\n",
    "        csame=0\n",
    "        i=1\n",
    "        x=0\n",
    "        if len(nums)==1 or len(nums)==0:\n",
    "            return 1\n",
    "        if len(nums)>2:\n",
    "            while nums[i-1]==nums[i]:\n",
    "                i=i+1\n",
    "                if len(nums)==i:\n",
    "                    return 1\n",
    "            if nums[i-1]<=nums[i]:\n",
    "                    count=1\n",
    "        else:\n",
    "            if (nums[0]<=nums[1]) or (nums[0]>=nums[1]):\n",
    "                return 1\n",
    "            else:\n",
    "                return 0\n",
    "        if count==1:\n",
    "            for j in range(len(nums)):\n",
    "                if j==0:\n",
    "                    pass\n",
    "                elif nums[j-1]<=nums[j]:\n",
    "                    x+=1\n",
    "        if count==0:\n",
    "            for j in range(len(nums)):\n",
    "                if j==0:\n",
    "                    pass\n",
    "                elif nums[j-1]>=nums[j]:\n",
    "                    x+=1\n",
    "                \n",
    "        if x==(len(nums)-1):\n",
    "            return 1\n",
    "        else:\n",
    "            return 0\n",
    "s=Solution()\n",
    "s.isMonotonic([5,5,5,5,2,2,2,1,1,1,0])\n",
    "                "
   ]
  },
  {
   "cell_type": "code",
   "execution_count": null,
   "id": "a8d8005b",
   "metadata": {},
   "outputs": [],
   "source": []
  }
 ],
 "metadata": {
  "kernelspec": {
   "display_name": "Python 3",
   "language": "python",
   "name": "python3"
  },
  "language_info": {
   "codemirror_mode": {
    "name": "ipython",
    "version": 3
   },
   "file_extension": ".py",
   "mimetype": "text/x-python",
   "name": "python",
   "nbconvert_exporter": "python",
   "pygments_lexer": "ipython3",
   "version": "3.8.8"
  }
 },
 "nbformat": 4,
 "nbformat_minor": 5
}
