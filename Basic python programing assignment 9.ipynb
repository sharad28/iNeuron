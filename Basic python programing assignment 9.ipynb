{
 "cells": [
  {
   "cell_type": "raw",
   "id": "e9fb4cca",
   "metadata": {},
   "source": [
    "Write a Python program to check if the given number is a Disarium Number?\n",
    "Write a Python program to print all disarium numbers between 1 to 100?\n",
    "Write a Python program to check if the given number is Happy Number?\n",
    "Write a Python program to print all happy numbers between 1 and 100?\n",
    "Write a Python program to determine whether the given number is a Harshad Number?\n",
    "Write a Python program to print all pronic numbers between 1 and 100?\n"
   ]
  },
  {
   "cell_type": "code",
   "execution_count": 2,
   "id": "3a77fd80",
   "metadata": {},
   "outputs": [],
   "source": [
    "#Write a Python program to check if the given number is a Disarium Number?\n"
   ]
  },
  {
   "cell_type": "code",
   "execution_count": 26,
   "id": "c4ef07ea",
   "metadata": {},
   "outputs": [
    {
     "name": "stdout",
     "output_type": "stream",
     "text": [
      "518 is a Disarium Number\n"
     ]
    }
   ],
   "source": [
    "def re_num(x,place=1,nu_sum = 0):\n",
    "    digi=len(str(x))\n",
    "    if digi==1:\n",
    "        nu_sum = nu_sum+x**place\n",
    "        return nu_sum\n",
    "    else:\n",
    "        digi_num = int(x/10**(digi-1))       \n",
    "        nu_sum = nu_sum + (digi_num)**(place)\n",
    "\n",
    "        x=x-digi_num*(10**(digi-1))\n",
    "        place+=1\n",
    "        return re_num(x,place,nu_sum)\n",
    "def check_disarium(x):\n",
    "    y=(re_num(x))\n",
    "    if x == y:\n",
    "        print(f'{x} is a Disarium Number')\n",
    "    else:\n",
    "        print(f'{x} is NOT a Disarium Number')\n",
    "        \n",
    "check_disarium(518)    \n"
   ]
  },
  {
   "cell_type": "code",
   "execution_count": 28,
   "id": "ab112cc9",
   "metadata": {},
   "outputs": [
    {
     "name": "stdout",
     "output_type": "stream",
     "text": [
      "1\n",
      "2\n",
      "3\n",
      "4\n",
      "5\n",
      "6\n",
      "7\n",
      "8\n",
      "9\n",
      "89\n"
     ]
    }
   ],
   "source": [
    "#Write a Python program to print all disarium numbers between 1 to 100? \n",
    "for i in range(1,101):\n",
    "    if i==re_num(i):\n",
    "        print(i)"
   ]
  },
  {
   "cell_type": "code",
   "execution_count": 34,
   "id": "ed3a6feb",
   "metadata": {},
   "outputs": [
    {
     "data": {
      "text/plain": [
       "True"
      ]
     },
     "execution_count": 34,
     "metadata": {},
     "output_type": "execute_result"
    }
   ],
   "source": [
    "#Write a Python program to check if the given number is Happy Number? \n",
    "class Solution:\n",
    "    \n",
    "    def sum_sq(self,n):\n",
    "        \n",
    "        sum_num=0\n",
    "        count_digi=len(str(n))\n",
    "        while count_digi>1:\n",
    "            d10 = 10**(count_digi-1)\n",
    "            s = int(n/(d10))\n",
    "            sum_num = sum_num + s**2\n",
    "            \n",
    "            n = n - (s*((d10)))\n",
    "            count_digi = count_digi-1\n",
    "            \n",
    "        sum_num = sum_num + n**2    \n",
    "        return sum_num    \n",
    "    \n",
    "    def isHappy(self, n: int) -> bool:\n",
    "        lst=[]\n",
    "        \n",
    "        while True:\n",
    "            n=self.sum_sq(n)\n",
    "            if n==1:\n",
    "                return True\n",
    "            elif n in lst:\n",
    "                return False\n",
    "            lst.append(n)\n",
    "            \n",
    "        \n",
    "            \n",
    "sol = Solution()\n",
    "sol.isHappy(19)                    \n",
    "                      "
   ]
  },
  {
   "cell_type": "code",
   "execution_count": 35,
   "id": "785ae025",
   "metadata": {},
   "outputs": [
    {
     "name": "stdout",
     "output_type": "stream",
     "text": [
      "1\n",
      "7\n",
      "10\n",
      "13\n",
      "19\n",
      "23\n",
      "28\n",
      "31\n",
      "32\n",
      "44\n",
      "49\n",
      "68\n",
      "70\n",
      "79\n",
      "82\n",
      "86\n",
      "91\n",
      "94\n",
      "97\n",
      "100\n"
     ]
    }
   ],
   "source": [
    "# Write a Python program to print all happy numbers between 1 and 100?\n",
    "sol = Solution()\n",
    "for i in range(1,101):\n",
    "    if sol.isHappy(i):\n",
    "        print(i)"
   ]
  },
  {
   "cell_type": "code",
   "execution_count": 52,
   "id": "a7141622",
   "metadata": {},
   "outputs": [
    {
     "name": "stdout",
     "output_type": "stream",
     "text": [
      "3\n",
      "21\n"
     ]
    },
    {
     "data": {
      "text/plain": [
       "True"
      ]
     },
     "execution_count": 52,
     "metadata": {},
     "output_type": "execute_result"
    }
   ],
   "source": [
    "# Write a Python program to determine whether the given number is a Harshad Number? /\n",
    "\n",
    "class solution1:\n",
    "    def sum_digi(self,p):\n",
    "        \n",
    "        sum_d = 0\n",
    "        digits = len(str(p))\n",
    "        while digits>=1:\n",
    "            d10 = 10**(digits-1)\n",
    "            digit_val = int(p/d10)\n",
    "            sum_d = sum_d + digit_val\n",
    "            p = p-int(digit_val*d10)\n",
    "            digits = digits -1\n",
    "        return sum_d   \n",
    "            \n",
    "    def isHarshad_num(self,n)->bool:\n",
    "        print(self.sum_digi(n))\n",
    "        print(n)\n",
    "        if n%(self.sum_digi(n))==0:\n",
    "            return True\n",
    "        else:\n",
    "            return False\n",
    "        \n",
    "sol1 = solution1()\n",
    "sol1.isHarshad_num(21)"
   ]
  },
  {
   "cell_type": "code",
   "execution_count": 57,
   "id": "a62194b1",
   "metadata": {},
   "outputs": [
    {
     "name": "stdout",
     "output_type": "stream",
     "text": [
      "2\n",
      "6\n",
      "12\n",
      "20\n",
      "30\n",
      "42\n",
      "56\n",
      "72\n",
      "90\n"
     ]
    }
   ],
   "source": [
    "# Write a Python program to print all pronic numbers between 1 and 100?\n",
    "class solution2:\n",
    "    def isPronic(self,n)->bool:\n",
    "        for i in range(n):\n",
    "            if i*(i+1)==n:\n",
    "                return True\n",
    "        return 0\n",
    "sol2 = solution2()\n",
    "for i in range(1,101):\n",
    "    if sol2.isPronic(i):\n",
    "        print(i)\n",
    "    "
   ]
  },
  {
   "cell_type": "code",
   "execution_count": null,
   "id": "9efaf9e7",
   "metadata": {},
   "outputs": [],
   "source": []
  }
 ],
 "metadata": {
  "kernelspec": {
   "display_name": "Python 3 (ipykernel)",
   "language": "python",
   "name": "python3"
  },
  "language_info": {
   "codemirror_mode": {
    "name": "ipython",
    "version": 3
   },
   "file_extension": ".py",
   "mimetype": "text/x-python",
   "name": "python",
   "nbconvert_exporter": "python",
   "pygments_lexer": "ipython3",
   "version": "3.8.8"
  }
 },
 "nbformat": 4,
 "nbformat_minor": 5
}
